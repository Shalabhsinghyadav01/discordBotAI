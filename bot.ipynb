{
 "cells": [
  {
   "cell_type": "code",
   "execution_count": 1,
   "metadata": {},
   "outputs": [],
   "source": [
    "# pip install -q -U google-generativeai"
   ]
  },
  {
   "cell_type": "code",
   "execution_count": 2,
   "metadata": {},
   "outputs": [],
   "source": [
    "# inatall all the dependencies\n",
    "import discord\n",
    "\n",
    "import google.generativeai as genai\n",
    "import os\n",
    "\n",
    "\n",
    "\n"
   ]
  },
  {
   "cell_type": "code",
   "execution_count": 3,
   "metadata": {},
   "outputs": [],
   "source": [
    "# APPLICATION ID\n",
    "# 1270460505391366204\n",
    "# PUBLIC KEY\n",
    "# e1faadbe4c5b7d68429cebff466e328642e1b03fda3d11a9e7d4ca22971cbc71\n",
    "\n",
    "key = os.getenv('s_key')\n",
    "API_KEY = os.getenv('api_key')\n"
   ]
  },
  {
   "cell_type": "code",
   "execution_count": 4,
   "metadata": {},
   "outputs": [],
   "source": [
    "# intializing the gemini model\n",
    "genai.configure(api_key=API_KEY)\n",
    "\n",
    "model = genai.GenerativeModel('gemini-1.5-flash')"
   ]
  },
  {
   "cell_type": "code",
   "execution_count": 5,
   "metadata": {},
   "outputs": [
    {
     "name": "stdout",
     "output_type": "stream",
     "text": [
      "Logged on as pops#3292!\n"
     ]
    }
   ],
   "source": [
    "# This example requires the 'message_content' intent.\n",
    "import asyncio\n",
    "class MyClient(discord.Client):\n",
    "    async def on_ready(self):\n",
    "        print(f'Logged on as {self.user}!')\n",
    "\n",
    "    async def on_message(self, message):\n",
    "        print(f'Message from {message.author}: {message.content}')\n",
    "        if self.user in message.mentions:\n",
    "            channel = message.channel\n",
    "            response = model.generate_content(message.content)\n",
    "            # print(response.text)\n",
    "            await channel.send(response.text)\n",
    "\n",
    "intents = discord.Intents.default()\n",
    "intents.message_content = True\n",
    "\n",
    "client = MyClient(intents=intents)\n",
    "await client.start(key)"
   ]
  }
 ],
 "metadata": {
  "kernelspec": {
   "display_name": "Python 3",
   "language": "python",
   "name": "python3"
  },
  "language_info": {
   "codemirror_mode": {
    "name": "ipython",
    "version": 3
   },
   "file_extension": ".py",
   "mimetype": "text/x-python",
   "name": "python",
   "nbconvert_exporter": "python",
   "pygments_lexer": "ipython3",
   "version": "3.11.4"
  }
 },
 "nbformat": 4,
 "nbformat_minor": 2
}
